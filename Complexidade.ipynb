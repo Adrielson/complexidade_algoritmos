{
 "cells": [
  {
   "cell_type": "markdown",
   "id": "bf7d6ea0",
   "metadata": {},
   "source": [
    "https://lamfo-unb.github.io/2019/04/21/Sorting-algorithms/"
   ]
  },
  {
   "cell_type": "markdown",
   "id": "9d54fd90",
   "metadata": {},
   "source": [
    "Expiremento: \"Trabalho de Complexidade\n",
    "\n",
    "Problema de ordenação\n",
    "\n",
    "Escolher 3 algoritmos diferentes de problema de ordenação (Diferentes em complexidade e memória)\n",
    "\n",
    "Entrada a partir de um arquivo contendo:\n",
    "1ª linha: N com 100 1000 10000 100000 1000000\n",
    "2ª linha: o algoritmo escolhido\n",
    "\n",
    "Cada execução deve conter:\n",
    "melhor caso\n",
    "pior caso\n",
    "médio caso -> deverá ser a média de 5 casos randômicos\n",
    "\n",
    "Coletar o tempo de execução e memória consumida e registrar em arquivo.\n",
    "Relatório contendo uma discussão sobre os projetos, preferencialmente com gráficos e diferenças entre os algoritmos escolhidos.\"\n",
    "\n",
    "Selecione pra mim tres algoritmos que no pior caso tenham complexidade distintas, também considere memorias variadas. O objetivo final será uma comparação entre os algoritmos, para isso cada algoritmo será implementado e testado com diferentes quantidades de dados de entrada para medir sua complexidade (tempo e memoria). liste as melhores combinações. "
   ]
  },
  {
   "cell_type": "markdown",
   "id": "6d7d7a15",
   "metadata": {},
   "source": [
    "## Importação de dependências\n",
    "\n",
    "Estas bibliotecas são utilizadas para diferentes propósitos no experimento:\n",
    "\n",
    "* time: medição do tempo de execução.\n",
    "* random: geração de casos médios aleatórios.\n",
    "* math: operações matemáticas, como raiz quadrada.\n",
    "* psutil: monitoramento do uso de recursos do sistema.\n",
    "* os: interações com o sistema operacional, como verificar se arquivos existem.\n",
    "* tracemalloc: rastreamento do uso de memória.\n",
    "* csv: leitura e escrita de arquivos CSV.\n",
    "* datetime: obter a data e hora atuais."
   ]
  },
  {
   "cell_type": "code",
   "execution_count": null,
   "id": "15369ad8",
   "metadata": {},
   "outputs": [],
   "source": [
    "import time\n",
    "import random\n",
    "import math\n",
    "import psutil\n",
    "import os\n",
    "import tracemalloc\n",
    "import csv\n",
    "from datetime import datetime"
   ]
  },
  {
   "cell_type": "markdown",
   "id": "1938929a",
   "metadata": {},
   "source": [
    "## Implementação dos Algoritmos de Ordenação:"
   ]
  },
  {
   "cell_type": "markdown",
   "id": "7654d331",
   "metadata": {},
   "source": [
    "### a) MergeSort"
   ]
  },
  {
   "cell_type": "code",
   "execution_count": 2,
   "id": "ad42bfe8",
   "metadata": {},
   "outputs": [],
   "source": [
    "def merge_sort(arr):\n",
    "    if len(arr) > 1:  # O(1)\n",
    "        mid = len(arr) // 2  # O(1)\n",
    "        left_half = arr[:mid]  # O(n)\n",
    "        right_half = arr[mid:]  # O(n)\n",
    "        merge_sort(left_half)  # T(n/2)\n",
    "        merge_sort(right_half)  # T(n/2)\n",
    "        i, j, k = 0, 0, 0  # O(1)\n",
    "        while i < len(left_half) and j < len(right_half):  # O(n)\n",
    "            if left_half[i] < right_half[j]:  # O(1)\n",
    "                arr[k] = left_half[i]  # O(1)\n",
    "                i += 1  # O(1)\n",
    "            else:\n",
    "                arr[k] = right_half[j]  # O(1)\n",
    "                j += 1  # O(1)\n",
    "            k += 1  # O(1)\n",
    "        while i < len(left_half):  # O(n/2)\n",
    "            arr[k] = left_half[i]  # O(1)\n",
    "            i += 1  # O(1)\n",
    "            k += 1  # O(1)\n",
    "        while j < len(right_half):  # O(n/2)\n",
    "            arr[k] = right_half[j]  # O(1)\n",
    "            j += 1  # O(1)\n",
    "            k += 1  # O(1)"
   ]
  },
  {
   "cell_type": "markdown",
   "id": "df8f69ff",
   "metadata": {},
   "source": [
    "### b) QuickSort"
   ]
  },
  {
   "cell_type": "code",
   "execution_count": 3,
   "id": "869a0f09",
   "metadata": {},
   "outputs": [],
   "source": [
    "def quick_sort(arr):\n",
    "    if len(arr) <= 1:  # O(1)\n",
    "        return arr  # O(1)\n",
    "    else:\n",
    "        pivot = arr[len(arr) // 2]  # O(1)\n",
    "        left = [x for x in arr if x < pivot]  # O(n)\n",
    "        middle = [x for x in arr if x == pivot]  # O(n)\n",
    "        right = [x for x in arr if x > pivot]  # O(n)\n",
    "        return quick_sort(left) + middle + quick_sort(right)  # T(n)"
   ]
  },
  {
   "cell_type": "markdown",
   "id": "bd0028d0",
   "metadata": {},
   "source": [
    "### c) SelectionSort"
   ]
  },
  {
   "cell_type": "code",
   "execution_count": 4,
   "id": "0e75acfe",
   "metadata": {},
   "outputs": [],
   "source": [
    "def selection_sort(arr):\n",
    "    for i in range(len(arr)):  # O(n)\n",
    "        min_idx = i  # O(1)\n",
    "        for j in range(i+1, len(arr)):  # O(n)\n",
    "            if arr[j] < arr[min_idx]:  # O(1)\n",
    "                min_idx = j  # O(1)\n",
    "        arr[i], arr[min_idx] = arr[min_idx], arr[i]  # O(1)"
   ]
  },
  {
   "cell_type": "markdown",
   "id": "15953664",
   "metadata": {},
   "source": [
    "## Medição do Tempo e Memória\n",
    "Esta função measure_time_and_memory mede o tempo e o uso de memória de uma função de ordenação."
   ]
  },
  {
   "cell_type": "code",
   "execution_count": 5,
   "id": "41250753",
   "metadata": {},
   "outputs": [],
   "source": [
    "def measure_time_and_memory(arr, sort_function):\n",
    "    tracemalloc.start()\n",
    "    start_time = time.time()\n",
    "    arr_copy = arr[:]  # Copiar o array para evitar alterar o original\n",
    "    sort_function(arr_copy)\n",
    "    end_time = time.time()\n",
    "    current, peak = tracemalloc.get_traced_memory()\n",
    "    tracemalloc.stop()\n",
    "    return end_time - start_time, peak / (1024 * 1024)  # Converter para MB\n"
   ]
  },
  {
   "cell_type": "markdown",
   "id": "f84aebbe",
   "metadata": {},
   "source": [
    "## Geração de Casos de Teste (Vetores de entrada)\n",
    "\n",
    "Cada algoritmo terá seus próprios casos de teste específicos para melhor caso, pior caso e caso médio, refletindo de maneira mais precisa a complexidade e a performance de cada um."
   ]
  },
  {
   "cell_type": "markdown",
   "id": "bb838921",
   "metadata": {},
   "source": [
    "### MergeSort melhor caso\n",
    "\n",
    "Array já ordenado. \n",
    "\n",
    "Melhor Caso (generate_best_case_merge_sort): Gera um array ordenado de 0 a n-1."
   ]
  },
  {
   "cell_type": "code",
   "execution_count": 6,
   "id": "68d849dd",
   "metadata": {},
   "outputs": [],
   "source": [
    "def generate_best_case_merge_sort(n):\n",
    "    return list(range(n))"
   ]
  },
  {
   "cell_type": "markdown",
   "id": "491fec09",
   "metadata": {},
   "source": [
    "### MergeSort pior caso\n",
    "\n",
    "O pior caso para MergeSort será aquele onde o array é tal que, em cada etapa, a função merge faz o número máximo de comparações. Seguindo a lógica explicada, foi criado uma função recursiva para construir os arrais.\n",
    "\n",
    "Pior Caso (generate_worst_case_merge_sort): Gera um array que resulta no número máximo de comparações no MergeSort. Utiliza uma abordagem recursiva para alternar os elementos entre subarrays esquerdo e direito."
   ]
  },
  {
   "cell_type": "code",
   "execution_count": null,
   "id": "74e80fd9",
   "metadata": {},
   "outputs": [],
   "source": [
    "# Pior caso para MergeSort: https://stackoverflow.com/questions/24594112/when-will-the-worst-case-of-merge-sort-occur"
   ]
  },
  {
   "cell_type": "code",
   "execution_count": 7,
   "id": "1be6b5f9",
   "metadata": {},
   "outputs": [],
   "source": [
    "def generate_worst_case_merge_sort(arr):\n",
    "    if len(arr) <= 1:\n",
    "        return arr\n",
    "    mid = len(arr) // 2\n",
    "    left = generate_worst_case_merge_sort(arr[:mid])\n",
    "    right = generate_worst_case_merge_sort(arr[mid:])\n",
    "    worst_case_arr = []\n",
    "    left_index, right_index = 0, 0\n",
    "    while left_index < len(left) and right_index < len(right):\n",
    "        worst_case_arr.append(left[left_index])\n",
    "        left_index += 1\n",
    "        worst_case_arr.append(right[right_index])\n",
    "        right_index += 1\n",
    "    worst_case_arr.extend(left[left_index:])\n",
    "    worst_case_arr.extend(right[right_index:])\n",
    "    return worst_case_arr\n",
    "def generate_worst_case_merge_sort_wrapper(n):\n",
    "    arr = list(range(n))\n",
    "    return generate_worst_case_merge_sort(arr)"
   ]
  },
  {
   "cell_type": "markdown",
   "id": "ce95ebd5",
   "metadata": {},
   "source": [
    "### MergeSort caso medio\n",
    "\n",
    "O caso médio para MergeSort é um array embaralhado aleatoriamente.\n",
    "\n",
    "Caso Médio (generate_average_case_merge_sort): Gera um array embaralhado aleatoriamente.\n",
    "Essa abordagem garante que o pior caso do MergeSort é configurado corretamente para maximizar o número de comparações, enquanto os melhores e casos médios permanecem conforme esperado."
   ]
  },
  {
   "cell_type": "code",
   "execution_count": null,
   "id": "79e469c6",
   "metadata": {},
   "outputs": [],
   "source": [
    "# Caso médio para MergeSort: array aleatório"
   ]
  },
  {
   "cell_type": "code",
   "execution_count": 8,
   "id": "ee8b4906",
   "metadata": {},
   "outputs": [],
   "source": [
    "def generate_average_case_merge_sort(n):\n",
    "    arr = list(range(n))\n",
    "    random.shuffle(arr)\n",
    "    return arr"
   ]
  },
  {
   "cell_type": "markdown",
   "id": "5e4ac4da",
   "metadata": {},
   "source": [
    "### QuickSort melhor caso\n",
    "\n",
    "Para o pivô sendo o elemento do meio, o melhor caso ocorre quando o array é tal que cada divisão é perfeitamente equilibrada. Na prática, isso não depende muito do estado inicial (ordenado ou aleatório), mas sim de uma distribuição balanceada dos elementos."
   ]
  },
  {
   "cell_type": "code",
   "execution_count": 9,
   "id": "cc02f41a",
   "metadata": {},
   "outputs": [],
   "source": [
    "def generate_best_case_quick_sort(n):\n",
    "    return list(range(n))"
   ]
  },
  {
   "cell_type": "markdown",
   "id": "3280ccde",
   "metadata": {},
   "source": [
    "### QuickSort pior caso\n",
    "\n",
    "O pior caso ocorre quando o array está ordenado ou inversamente ordenado, e o pivô sendo o elemento do meio ainda resulta em uma partição desbalanceada. Contudo, com o pivô sendo o elemento do meio, um array ordenado ou inversamente ordenado não cria o pior caso. Então, vamos criar uma distribuição específica que força o pior caso."
   ]
  },
  {
   "cell_type": "code",
   "execution_count": 10,
   "id": "3afff16a",
   "metadata": {},
   "outputs": [],
   "source": [
    "def generate_worst_case_quick_sort(arr):\n",
    "    if len(arr) <= 1:\n",
    "        return arr\n",
    "    mid = len(arr) // 2\n",
    "    left = generate_worst_case_quick_sort(arr[:mid])\n",
    "    right = generate_worst_case_quick_sort(arr[mid:])\n",
    "    return [arr[mid]] + left + right\n",
    "\n",
    "def generate_worst_case_quick_sort_wrapper(n):\n",
    "    arr = list(range(n))\n",
    "    return generate_worst_case_quick_sort(arr)"
   ]
  },
  {
   "cell_type": "markdown",
   "id": "cf00a109",
   "metadata": {},
   "source": [
    "### QuickSort caso medio\n",
    "\n",
    "Para o caso médio, um array aleatório geralmente serve bem para esta abordagem."
   ]
  },
  {
   "cell_type": "code",
   "execution_count": 11,
   "id": "af732ccd",
   "metadata": {},
   "outputs": [],
   "source": [
    "def generate_average_case_quick_sort(n):\n",
    "    arr = list(range(n))\n",
    "    random.shuffle(arr)\n",
    "    return arr"
   ]
  },
  {
   "cell_type": "code",
   "execution_count": null,
   "id": "bc1e1a81",
   "metadata": {},
   "outputs": [],
   "source": [
    "#http://desenvolvendosoftware.com.br/algoritmos/ordenacao/selection-sort.html"
   ]
  },
  {
   "cell_type": "markdown",
   "id": "c1fd7122",
   "metadata": {},
   "source": [
    "### Selection Sort melhor caso\n",
    "O melhor caso para o Selection Sort ocorre quando o array já está ordenado. Mesmo neste caso, o algoritmo ainda tem que passar por todas as comparações, mas não faz trocas desnecessárias. A complexidade permanece O(n^2), mas o número de trocas é mínimo."
   ]
  },
  {
   "cell_type": "code",
   "execution_count": 12,
   "id": "78b0e3d8",
   "metadata": {},
   "outputs": [],
   "source": [
    "def generate_best_case_selection_sort(n):\n",
    "    return list(range(n))"
   ]
  },
  {
   "cell_type": "markdown",
   "id": "0f6bc813",
   "metadata": {},
   "source": [
    "### Selection Sort pior caso\n",
    "\n",
    "O pior caso para o Selection Sort ocorre quando o array está em ordem inversa. Isso força o algoritmo a realizar o máximo número de trocas."
   ]
  },
  {
   "cell_type": "code",
   "execution_count": 13,
   "id": "e03eac3b",
   "metadata": {},
   "outputs": [],
   "source": [
    "def generate_worst_case_selection_sort(n):\n",
    "    return list(range(n-1, -1, -1))"
   ]
  },
  {
   "cell_type": "markdown",
   "id": "368dc0da",
   "metadata": {},
   "source": [
    "### Selection Sort caso medio\n",
    "\n",
    "O caso médio para o Selection Sort é um array aleatório, onde o desempenho será representativo da média esperada para a complexidade O(n^2)."
   ]
  },
  {
   "cell_type": "code",
   "execution_count": 14,
   "id": "cb5402a0",
   "metadata": {},
   "outputs": [],
   "source": [
    "def generate_average_case_selection_sort(n):\n",
    "    arr = list(range(n))\n",
    "    random.shuffle(arr)\n",
    "    return arr"
   ]
  },
  {
   "cell_type": "markdown",
   "id": "61ce611a",
   "metadata": {},
   "source": [
    "### Função para retornar as funções de geração de casos de teste com base no algoritmo\n",
    "\n",
    "Esta função retorna um conjunto de funções de geração de casos de teste (melhor caso, pior caso e caso médio) específicas para o algoritmo de ordenação fornecido. O objetivo é fornecer as funções corretas que geram os casos de teste apropriados para o algoritmo especificado.\n",
    "\n",
    "**Como funciona:**\n",
    "\n",
    "**Entrada:** Um string algorithm_name, que é o nome do algoritmo de ordenação (por exemplo, \"MergeSort\").\n",
    "\n",
    "**Processamento:** Verifica qual é o nome do algoritmo e retorna um conjunto de três funções: uma para gerar o melhor caso, uma para gerar o pior caso e outra para gerar o caso médio.\n",
    "\n",
    "**Saída:** Uma tupla contendo três funções de geração de casos de teste correspondentes ao algoritmo especificado."
   ]
  },
  {
   "cell_type": "code",
   "execution_count": 15,
   "id": "5cf54754",
   "metadata": {},
   "outputs": [],
   "source": [
    "def get_case_generators(algorithm_name):\n",
    "    if algorithm_name == \"MergeSort\":\n",
    "        return (generate_best_case_merge_sort, generate_worst_case_merge_sort_wrapper, generate_average_case_merge_sort)\n",
    "    elif algorithm_name == \"QuickSort\":\n",
    "        return (generate_best_case_quick_sort, generate_worst_case_quick_sort_wrapper, generate_average_case_quick_sort)\n",
    "    elif algorithm_name == \"SelectionSort\":\n",
    "        return (generate_best_case_selection_sort, generate_worst_case_selection_sort, generate_average_case_selection_sort)\n",
    "    else:\n",
    "        raise ValueError(f\"Algoritmo desconhecido: {algorithm_name}\")\n"
   ]
  },
  {
   "cell_type": "markdown",
   "id": "ba2fc5d8",
   "metadata": {},
   "source": [
    "## Seleção da Função de Ordenação\n",
    "\n",
    "Seleciona a função de ordenação com base no nome fornecido."
   ]
  },
  {
   "cell_type": "code",
   "execution_count": 16,
   "id": "89cda0bd",
   "metadata": {},
   "outputs": [],
   "source": [
    "def get_sort_function(algorithm_name):\n",
    "    if algorithm_name == \"MergeSort\":\n",
    "        return merge_sort\n",
    "    elif algorithm_name == \"QuickSort\":\n",
    "        return quick_sort\n",
    "    elif algorithm_name == \"SelectionSort\":\n",
    "        return selection_sort\n",
    "    else:\n",
    "        raise ValueError(f\"Algoritmo desconhecido: {algorithm_name}\")"
   ]
  },
  {
   "cell_type": "markdown",
   "id": "9c9292bf",
   "metadata": {},
   "source": [
    "## Leitura do Arquivo de Entrada\n",
    "\n",
    "Lê o arquivo de entrada para obter os tamanhos dos arrays e o algoritmo a ser testado."
   ]
  },
  {
   "cell_type": "code",
   "execution_count": 17,
   "id": "6adf285e",
   "metadata": {},
   "outputs": [],
   "source": [
    "def read_input_file(filename):\n",
    "    with open(filename, 'r') as file:\n",
    "        sizes = list(map(int, file.readline().strip().split()))\n",
    "        algorithm = file.readline().strip()\n",
    "    return sizes, algorithm"
   ]
  },
  {
   "cell_type": "markdown",
   "id": "8fb42147",
   "metadata": {},
   "source": [
    "## Função Principal\n",
    "\n",
    "A função principal coordena a leitura dos parâmetros de entrada, seleção do algoritmo de ordenação, execução dos testes e gravação dos resultados em um arquivo CSV.\n",
    "\n",
    "**Fluxo Geral do Programa**\n",
    "\n",
    "**Leitura dos Parâmetros de Entrada:** O arquivo input-teste.txt é lido para obter os tamanhos dos arrays e o algoritmo de ordenação a ser testado.\n",
    "\n",
    "**Configuração do Arquivo de Log:** Se o arquivo de log não existe, ele é criado com o cabeçalho apropriado.\n",
    "\n",
    "**Execução dos Testes:** Para cada tamanho de array, são gerados três tipos de casos (melhor, pior e médio). Para cada caso, o tempo e o uso de memória são medidos.\n",
    "\n",
    "**Registro dos Resultados:** Os resultados são registrados no arquivo de log e impressos no console.\n",
    "\n",
    "Esta estrutura permite uma análise detalhada da performance de diferentes algoritmos de ordenação sob diferentes condições."
   ]
  },
  {
   "cell_type": "code",
   "execution_count": 18,
   "id": "bc57dcfb",
   "metadata": {
    "scrolled": false
   },
   "outputs": [],
   "source": [
    "def main():\n",
    "    sizes, algorithm_name = read_input_file('input.txt')\n",
    "    sort_function = get_sort_function(algorithm_name)\n",
    "    log_file = 'sort_performance_log.csv'\n",
    "\n",
    "    if not os.path.exists(log_file):\n",
    "        with open(log_file, 'w', newline='') as csvfile:\n",
    "            fieldnames = ['timestamp', 'algorithm', 'size', 'case', 'time', 'memory']\n",
    "            writer = csv.DictWriter(csvfile, fieldnames=fieldnames)\n",
    "            writer.writeheader()\n",
    "\n",
    "    case_generators = get_case_generators(algorithm_name)\n",
    "    cases = ['melhor', 'pior', 'medio']\n",
    "\n",
    "    for size in sizes:\n",
    "        for case, gen_case in zip(cases, case_generators):\n",
    "            if case == 'medio':\n",
    "                times = []\n",
    "                memories = []\n",
    "                for _ in range(5):\n",
    "                    arr = gen_case(size)\n",
    "#                     print(f\"Array {case} caso (antes da ordenação): {arr}\")\n",
    "                    time_spent, memory_used = measure_time_and_memory(arr, sort_function)\n",
    "                    times.append(time_spent)\n",
    "                    memories.append(memory_used)\n",
    "                avg_time = sum(times) / len(times)\n",
    "                avg_memory = sum(memories) / len(memories)\n",
    "                log_entry = {\n",
    "                    'timestamp': datetime.now().strftime('%Y-%m-%d %H:%M:%S'),\n",
    "                    'algorithm': algorithm_name,\n",
    "                    'size': size,\n",
    "                    'case': case,\n",
    "                    'time': avg_time,\n",
    "                    'memory': avg_memory\n",
    "                }\n",
    "                print(f\"{log_entry['timestamp']}, {algorithm_name}, {size}, {case}, {avg_time:.6f}, {avg_memory:.6f} MB\")\n",
    "            else:\n",
    "                arr = gen_case(size)\n",
    "#                 print(f\"Array {case} caso (antes da ordenação): {arr}\")\n",
    "                time_spent, memory_used = measure_time_and_memory(arr, sort_function)\n",
    "                log_entry = {\n",
    "                    'timestamp': datetime.now().strftime('%Y-%m-%d %H:%M:%S'),\n",
    "                    'algorithm': algorithm_name,\n",
    "                    'size': size,\n",
    "                    'case': case,\n",
    "                    'time': time_spent,\n",
    "                    'memory': memory_used\n",
    "                }\n",
    "                print(f\"{log_entry['timestamp']}, {algorithm_name}, {size}, {case}, {time_spent:.6f}, {memory_used:.6f} MB\")\n",
    "\n",
    "            with open(log_file, 'a', newline='') as csvfile:\n",
    "                fieldnames = ['timestamp', 'algorithm', 'size', 'case', 'time', 'memory']\n",
    "                writer = csv.DictWriter(csvfile, fieldnames=fieldnames)\n",
    "                writer.writerow(log_entry)"
   ]
  },
  {
   "cell_type": "code",
   "execution_count": 20,
   "id": "b8aa4169",
   "metadata": {},
   "outputs": [],
   "source": [
    "def main():\n",
    "    sizes, algorithm_name = read_input_file('input.txt')\n",
    "    sort_function = get_sort_function(algorithm_name)\n",
    "    log_file = 'sort_performance_log.csv'\n",
    "\n",
    "    if not os.path.exists(log_file):\n",
    "        with open(log_file, 'w', newline='') as csvfile:\n",
    "            fieldnames = ['timestamp', 'algorithm', 'size', 'case', 'time', 'memory']\n",
    "            writer = csv.DictWriter(csvfile, fieldnames=fieldnames)\n",
    "            writer.writeheader()\n",
    "\n",
    "    case_generators = get_case_generators(algorithm_name)\n",
    "    cases = ['melhor', 'pior', 'medio']\n",
    "    total_cases = len(sizes) * len(cases)\n",
    "    processed_cases = 0\n",
    "\n",
    "    for size in sizes:\n",
    "        for case, gen_case in zip(cases, case_generators):\n",
    "            if case == 'medio':\n",
    "                times = []\n",
    "                memories = []\n",
    "                for _ in range(5):\n",
    "                    arr = gen_case(size)\n",
    "                    time_spent, memory_used = measure_time_and_memory(arr, sort_function)\n",
    "                    times.append(time_spent)\n",
    "                    memories.append(memory_used)\n",
    "                avg_time = sum(times) / len(times)\n",
    "                avg_memory = sum(memories) / len(memories)\n",
    "                log_entry = {\n",
    "                    'timestamp': datetime.now().strftime('%Y-%m-%d %H:%M:%S'),\n",
    "                    'algorithm': algorithm_name,\n",
    "                    'size': size,\n",
    "                    'case': case,\n",
    "                    'time': avg_time,\n",
    "                    'memory': avg_memory\n",
    "                }\n",
    "            else:\n",
    "                arr = gen_case(size)\n",
    "                time_spent, memory_used = measure_time_and_memory(arr, sort_function)\n",
    "                log_entry = {\n",
    "                    'timestamp': datetime.now().strftime('%Y-%m-%d %H:%M:%S'),\n",
    "                    'algorithm': algorithm_name,\n",
    "                    'size': size,\n",
    "                    'case': case,\n",
    "                    'time': time_spent,\n",
    "                    'memory': memory_used\n",
    "                }\n",
    "            \n",
    "            processed_cases += 1\n",
    "            progress = (processed_cases / total_cases) * 100\n",
    "            print(f\"Progress: {progress:.2f}% - {log_entry['timestamp']}, {algorithm_name}, {size}, {case}, {log_entry['time']:.6f}, {log_entry['memory']:.6f} MB\")\n",
    "            \n",
    "            with open(log_file, 'a', newline='') as csvfile:\n",
    "                fieldnames = ['timestamp', 'algorithm', 'size', 'case', 'time', 'memory']\n",
    "                writer = csv.DictWriter(csvfile, fieldnames=fieldnames)\n",
    "                writer.writerow(log_entry)"
   ]
  },
  {
   "cell_type": "code",
   "execution_count": null,
   "id": "625c87ff",
   "metadata": {},
   "outputs": [
    {
     "name": "stdout",
     "output_type": "stream",
     "text": [
      "Progress: 5.56% - 2024-07-08 19:12:40, SelectionSort, 100, melhor, 0.000000, 0.000870 MB\n",
      "Progress: 11.11% - 2024-07-08 19:12:40, SelectionSort, 100, pior, 0.000988, 0.000870 MB\n",
      "Progress: 16.67% - 2024-07-08 19:12:40, SelectionSort, 100, medio, 0.000928, 0.000870 MB\n",
      "Progress: 22.22% - 2024-07-08 19:12:41, SelectionSort, 1000, melhor, 0.973896, 0.150163 MB\n",
      "Progress: 27.78% - 2024-07-08 19:12:42, SelectionSort, 1000, pior, 1.116149, 0.149994 MB\n",
      "Progress: 33.33% - 2024-07-08 19:12:47, SelectionSort, 1000, medio, 1.059147, 0.064585 MB\n",
      "Progress: 38.89% - 2024-07-08 19:14:39, SelectionSort, 10000, melhor, 111.587152, 0.218737 MB\n",
      "Progress: 44.44% - 2024-07-08 19:16:29, SelectionSort, 10000, pior, 110.691571, 0.218695 MB\n",
      "Progress: 50.00% - 2024-07-08 19:25:46, SelectionSort, 10000, medio, 111.317213, 0.218304 MB\n",
      "Progress: 55.56% - 2024-07-08 21:09:04, SelectionSort, 100000, melhor, 6198.211136, 0.905354 MB\n",
      "Progress: 61.11% - 2024-07-08 22:46:04, SelectionSort, 100000, pior, 5819.691406, 0.905340 MB\n",
      "Progress: 66.67% - 2024-07-09 05:34:32, SelectionSort, 100000, medio, 4901.608630, 0.904939 MB\n"
     ]
    }
   ],
   "source": [
    "if __name__ == \"__main__\":\n",
    "    main()"
   ]
  },
  {
   "cell_type": "code",
   "execution_count": null,
   "id": "8a0b9aa3",
   "metadata": {},
   "outputs": [],
   "source": []
  }
 ],
 "metadata": {
  "kernelspec": {
   "display_name": "Python 3 (ipykernel)",
   "language": "python",
   "name": "python3"
  },
  "language_info": {
   "codemirror_mode": {
    "name": "ipython",
    "version": 3
   },
   "file_extension": ".py",
   "mimetype": "text/x-python",
   "name": "python",
   "nbconvert_exporter": "python",
   "pygments_lexer": "ipython3",
   "version": "3.11.5"
  }
 },
 "nbformat": 4,
 "nbformat_minor": 5
}
