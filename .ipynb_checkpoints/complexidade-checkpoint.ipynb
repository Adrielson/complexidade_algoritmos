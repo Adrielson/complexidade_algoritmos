{
 "cells": [
  {
   "cell_type": "markdown",
   "id": "e2b9fc92",
   "metadata": {},
   "source": [
    "Para realizar o experimento de comparação entre algoritmos de ordenação com complexidades distintas no pior caso e uso de memória variado, a melhor combinação de algoritmos seria:\n",
    "\n",
    "- Merge Sort\n",
    "- QuickSort\n",
    "- Bubble Sort\n",
    "\n",
    "\n",
    "Justificativa: Bubble Sort é simples e possui uma complexidade quadrática constante, tornando-o ideal para demonstrar a ineficiência de algoritmos quadráticos em grandes conjuntos de dados.\n",
    "Procedimentos para Execução dos Testes\n",
    "\n",
    "## 1. Preparação do Arquivo de Entrada\n",
    "O arquivo de entrada deve ser configurado como:"
   ]
  },
  {
   "cell_type": "markdown",
   "id": "b955660d",
   "metadata": {},
   "source": [
    "100 1000 10000 100000 1000000\n",
    "MergeSort"
   ]
  },
  {
   "cell_type": "code",
   "execution_count": 1,
   "id": "0f955301",
   "metadata": {},
   "outputs": [],
   "source": [
    "import time\n",
    "import random"
   ]
  },
  {
   "cell_type": "markdown",
   "id": "c33f905a",
   "metadata": {},
   "source": [
    "## MergeSort"
   ]
  },
  {
   "cell_type": "code",
   "execution_count": 9,
   "id": "d3c7ea11",
   "metadata": {},
   "outputs": [],
   "source": [
    "def merge_sort(arr):\n",
    "    if len(arr) > 1:\n",
    "        mid = len(arr) // 2\n",
    "        left_half = arr[:mid]\n",
    "        right_half = arr[mid:]\n",
    "\n",
    "        merge_sort(left_half)\n",
    "        merge_sort(right_half)\n",
    "\n",
    "        i, j, k = 0, 0, 0\n",
    "        while i < len(left_half) and j < len(right_half):\n",
    "            if left_half[i] < right_half[j]:\n",
    "                arr[k] = left_half[i]\n",
    "                i += 1\n",
    "            else:\n",
    "                arr[k] = right_half[j]\n",
    "                j += 1\n",
    "            k += 1\n",
    "\n",
    "        while i < len(left_half):\n",
    "            arr[k] = left_half[i]\n",
    "            i += 1\n",
    "            k += 1\n",
    "\n",
    "        while j < len(right_half):\n",
    "            arr[k] = right_half[j]\n",
    "            j += 1\n",
    "            k += 1\n",
    "\n",
    "def measure_time(arr):\n",
    "    start_time = time.time()\n",
    "    merge_sort(arr)\n",
    "    end_time = time.time()\n",
    "    return end_time - start_time\n",
    "\n",
    "# Gerando a lista para o melhor e pior caso\n",
    "def generate_best_case(n):\n",
    "    return list(range(n))\n",
    "\n",
    "def generate_worst_case(n):\n",
    "    return list(range(n, 0, -1))\n",
    "\n",
    "def generate_average_case(n):\n",
    "    arr = list(range(n))\n",
    "    random.shuffle(arr)\n",
    "    return arr"
   ]
  },
  {
   "cell_type": "code",
   "execution_count": 10,
   "id": "0d142618",
   "metadata": {},
   "outputs": [],
   "source": [
    "# Tamanho da lista\n",
    "n = 10000"
   ]
  },
  {
   "cell_type": "code",
   "execution_count": 11,
   "id": "e6eed21b",
   "metadata": {},
   "outputs": [],
   "source": [
    "import logging\n",
    "\n",
    "# Configuração do logger\n",
    "logging.basicConfig(level=logging.INFO, format='%(asctime)s - %(message)s')\n",
    "logger = logging.getLogger()"
   ]
  },
  {
   "cell_type": "code",
   "execution_count": 12,
   "id": "62867833",
   "metadata": {},
   "outputs": [
    {
     "name": "stderr",
     "output_type": "stream",
     "text": [
      "2024-07-03 11:31:35,316 - Iniciando o teste do pior caso\n"
     ]
    },
    {
     "ename": "NameError",
     "evalue": "name 'measure_time_merge_sort' is not defined",
     "output_type": "error",
     "traceback": [
      "\u001b[1;31m---------------------------------------------------------------------------\u001b[0m",
      "\u001b[1;31mNameError\u001b[0m                                 Traceback (most recent call last)",
      "Cell \u001b[1;32mIn[12], line 4\u001b[0m\n\u001b[0;32m      2\u001b[0m logger\u001b[38;5;241m.\u001b[39minfo(\u001b[38;5;124m\"\u001b[39m\u001b[38;5;124mIniciando o teste do pior caso\u001b[39m\u001b[38;5;124m\"\u001b[39m)\n\u001b[0;32m      3\u001b[0m worst_case_arr \u001b[38;5;241m=\u001b[39m generate_worst_case_merge_sort(n)\n\u001b[1;32m----> 4\u001b[0m worst_case_time \u001b[38;5;241m=\u001b[39m measure_time_merge_sort(worst_case_arr)\n\u001b[0;32m      5\u001b[0m logger\u001b[38;5;241m.\u001b[39minfo(\u001b[38;5;124mf\u001b[39m\u001b[38;5;124m\"\u001b[39m\u001b[38;5;124mTempo total para o pior caso (n=\u001b[39m\u001b[38;5;132;01m{\u001b[39;00mn\u001b[38;5;132;01m}\u001b[39;00m\u001b[38;5;124m): \u001b[39m\u001b[38;5;132;01m{\u001b[39;00mworst_case_time\u001b[38;5;132;01m:\u001b[39;00m\u001b[38;5;124m.6f\u001b[39m\u001b[38;5;132;01m}\u001b[39;00m\u001b[38;5;124m segundos\u001b[39m\u001b[38;5;124m\"\u001b[39m)\n\u001b[0;32m      7\u001b[0m \u001b[38;5;66;03m# Melhor caso\u001b[39;00m\n",
      "\u001b[1;31mNameError\u001b[0m: name 'measure_time_merge_sort' is not defined"
     ]
    }
   ],
   "source": [
    "# Pior caso\n",
    "logger.info(\"Iniciando o teste do pior caso\")\n",
    "worst_case_arr = generate_worst_case_block_sort(n)\n",
    "worst_case_time = measure_time_block_sort(worst_case_arr)\n",
    "logger.info(f\"Tempo total para o pior caso (n={n}): {worst_case_time:.6f} segundos\")\n",
    "\n",
    "# Melhor caso\n",
    "best_case_arr = generate_best_case(n)\n",
    "best_case_time = measure_time(best_case_arr)\n",
    "print(f\"Tempo total para o melhor caso (n={n}): {best_case_time:.6f} segundos\")\n",
    "\n",
    "\n",
    "# Caso médio (5 rodadas)\n",
    "average_case_times = []\n",
    "for i in range(5):\n",
    "    average_case_arr = generate_average_case(n)\n",
    "    average_case_time = measure_time(average_case_arr)\n",
    "    average_case_times.append(average_case_time)\n",
    "    print(f\"Tempo para o caso médio (n={n}, rodada {i+1}): {average_case_time:.6f} segundos\")\n",
    "\n",
    "average_case_time = sum(average_case_times) / len(average_case_times)\n",
    "print(f\"Tempo médio para o caso médio (n={n}, 5 rodadas): {average_case_time:.6f} segundos\")"
   ]
  },
  {
   "cell_type": "code",
   "execution_count": null,
   "id": "c4cb087e",
   "metadata": {},
   "outputs": [],
   "source": [
    "# Pior caso\n",
    "worst_case_arr = generate_worst_case(n)\n",
    "worst_case_time = measure_time(worst_case_arr)\n",
    "print(f\"Tempo total para o pior caso (n={n}): {worst_case_time:.6f} segundos\")"
   ]
  },
  {
   "cell_type": "code",
   "execution_count": null,
   "id": "0fe40f18",
   "metadata": {},
   "outputs": [],
   "source": [
    "# Caso médio (5 rodadas)\n",
    "average_case_times = []\n",
    "for i in range(5):\n",
    "    average_case_arr = generate_average_case(n)\n",
    "    average_case_time = measure_time(average_case_arr)\n",
    "    average_case_times.append(average_case_time)\n",
    "    print(f\"Tempo para o caso médio (n={n}, rodada {i+1}): {average_case_time:.6f} segundos\")\n",
    "\n",
    "average_case_time = sum(average_case_times) / len(average_case_times)\n",
    "print(f\"Tempo médio para o caso médio (n={n}, 5 rodadas): {average_case_time:.6f} segundos\")"
   ]
  },
  {
   "cell_type": "markdown",
   "id": "a69088e3",
   "metadata": {},
   "source": [
    "## QuickSort"
   ]
  },
  {
   "cell_type": "code",
   "execution_count": null,
   "id": "55839e9e",
   "metadata": {},
   "outputs": [],
   "source": [
    "def quick_sort(arr):\n",
    "    if len(arr) <= 1:\n",
    "        return arr\n",
    "    else:\n",
    "        pivot = arr[len(arr) // 2]\n",
    "        left = [x for x in arr if x < pivot]\n",
    "        middle = [x for x in arr if x == pivot]\n",
    "        right = [x for x in arr if x > pivot]\n",
    "        return quick_sort(left) + middle + quick_sort(right)\n",
    "\n",
    "def measure_time_quick_sort(arr):\n",
    "    start_time = time.time()\n",
    "    sorted_arr = quick_sort(arr)\n",
    "    end_time = time.time()\n",
    "    return end_time - start_time\n",
    "\n",
    "# Gerando a lista para o melhor e pior caso\n",
    "def generate_best_case_quick_sort(n):\n",
    "    return list(range(n))\n",
    "\n",
    "def generate_worst_case_quick_sort(n):\n",
    "    return list(range(n, 0, -1))\n",
    "\n",
    "def generate_average_case(n):\n",
    "    arr = list(range(n))\n",
    "    random.shuffle(arr)\n",
    "    return arr"
   ]
  },
  {
   "cell_type": "code",
   "execution_count": null,
   "id": "cf0ee7ec",
   "metadata": {},
   "outputs": [],
   "source": [
    "# Melhor caso\n",
    "best_case_arr_quick_sort = generate_best_case_quick_sort(n)\n",
    "best_case_time_quick_sort = measure_time_quick_sort(best_case_arr_quick_sort)\n",
    "print(f\"Tempo total para o melhor caso (QuickSort, n={n}): {best_case_time_quick_sort:.6f} segundos\")"
   ]
  },
  {
   "cell_type": "code",
   "execution_count": null,
   "id": "551e213e",
   "metadata": {},
   "outputs": [],
   "source": [
    "# Pior caso\n",
    "worst_case_arr_quick_sort = generate_worst_case_quick_sort(n)\n",
    "worst_case_time_quick_sort = measure_time_quick_sort(worst_case_arr_quick_sort)\n",
    "print(f\"Tempo total para o pior caso (QuickSort, n={n}): {worst_case_time_quick_sort:.6f} segundos\")"
   ]
  },
  {
   "cell_type": "code",
   "execution_count": null,
   "id": "52f7f99d",
   "metadata": {},
   "outputs": [],
   "source": [
    "# Caso médio (5 rodadas)\n",
    "average_case_times_quick_sort = []\n",
    "for i in range(5):\n",
    "    average_case_arr = generate_average_case(n)\n",
    "    average_case_time_quick_sort = measure_time_quick_sort(average_case_arr)\n",
    "    average_case_times_quick_sort.append(average_case_time_quick_sort)\n",
    "    print(f\"Tempo para o caso médio (QuickSort, n={n}, rodada {i+1}): {average_case_time_quick_sort:.6f} segundos\")\n",
    "\n",
    "average_case_time_quick_sort = sum(average_case_times_quick_sort) / len(average_case_times_quick_sort)\n",
    "print(f\"Tempo médio para o caso médio (QuickSort, n={n}, 5 rodadas): {average_case_time_quick_sort:.6f} segundos\")"
   ]
  },
  {
   "cell_type": "markdown",
   "id": "f6cb1f20",
   "metadata": {},
   "source": [
    "## SelectionSort"
   ]
  },
  {
   "cell_type": "code",
   "execution_count": null,
   "id": "d6d7f12b",
   "metadata": {},
   "outputs": [],
   "source": [
    "def selection_sort(arr):\n",
    "    for i in range(len(arr)):\n",
    "        min_idx = i\n",
    "        for j in range(i+1, len(arr)):\n",
    "            if arr[j] < arr[min_idx]:\n",
    "                min_idx = j\n",
    "        arr[i], arr[min_idx] = arr[min_idx], arr[i]\n",
    "\n",
    "def measure_time_selection_sort(arr):\n",
    "    start_time = time.time()\n",
    "    selection_sort(arr)\n",
    "    end_time = time.time()\n",
    "    return end_time - start_time\n",
    "\n",
    "# Gerando a lista para o melhor e pior caso\n",
    "def generate_best_case_selection_sort(n):\n",
    "    return list(range(n))\n",
    "\n",
    "def generate_worst_case_selection_sort(n):\n",
    "    return list(range(n, 0, -1))\n",
    "\n",
    "def generate_average_case(n):\n",
    "    arr = list(range(n))\n",
    "    random.shuffle(arr)\n",
    "    return arr"
   ]
  },
  {
   "cell_type": "code",
   "execution_count": null,
   "id": "85c05be6",
   "metadata": {},
   "outputs": [],
   "source": [
    "# Melhor caso\n",
    "best_case_arr_selection_sort = generate_best_case_selection_sort(n)\n",
    "best_case_time_selection_sort = measure_time_selection_sort(best_case_arr_selection_sort)\n",
    "print(f\"Tempo total para o melhor caso (SelectionSort, n={n}): {best_case_time_selection_sort:.6f} segundos\")"
   ]
  },
  {
   "cell_type": "code",
   "execution_count": null,
   "id": "36b1a2ba",
   "metadata": {},
   "outputs": [],
   "source": [
    "# Pior caso\n",
    "worst_case_arr_selection_sort = generate_worst_case_selection_sort(n)\n",
    "worst_case_time_selection_sort = measure_time_selection_sort(worst_case_arr_selection_sort)\n",
    "print(f\"Tempo total para o pior caso (SelectionSort, n={n}): {worst_case_time_selection_sort:.6f} segundos\")"
   ]
  },
  {
   "cell_type": "code",
   "execution_count": null,
   "id": "a1285fb3",
   "metadata": {},
   "outputs": [],
   "source": [
    "# Caso médio (5 rodadas)\n",
    "average_case_times_selection_sort = []\n",
    "for i in range(5):\n",
    "    average_case_arr = generate_average_case(n)\n",
    "    average_case_time_selection_sort = measure_time_selection_sort(average_case_arr)\n",
    "    average_case_times_selection_sort.append(average_case_time_selection_sort)\n",
    "    print(f\"Tempo para o caso médio (SelectionSort, n={n}, rodada {i+1}): {average_case_time_selection_sort:.6f} segundos\")\n",
    "\n",
    "average_case_time_selection_sort = sum(average_case_times_selection_sort) / len(average_case_times_selection_sort)\n",
    "print(f\"Tempo médio para o caso médio (SelectionSort, n={n}, 5 rodadas): {average_case_time_selection_sort:.6f} segundos\")"
   ]
  },
  {
   "cell_type": "markdown",
   "id": "7ab607e6",
   "metadata": {},
   "source": [
    "## BlockSort"
   ]
  },
  {
   "cell_type": "code",
   "execution_count": null,
   "id": "8e1e6b27",
   "metadata": {},
   "outputs": [],
   "source": [
    "import math\n",
    "\n",
    "def block_sort(arr):\n",
    "    n = len(arr)\n",
    "    if n <= 1:\n",
    "        return arr\n",
    "\n",
    "    block_size = int(math.sqrt(n))\n",
    "    blocks = [[] for _ in range(block_size)]\n",
    "\n",
    "    max_value = max(arr)\n",
    "    min_value = min(arr)\n",
    "    range_value = max_value - min_value\n",
    "\n",
    "    # Distribute the elements into blocks\n",
    "    for num in arr:\n",
    "        index = (num - min_value) * block_size // (range_value + 1)\n",
    "        blocks[index].append(num)\n",
    "\n",
    "    # Sort individual blocks\n",
    "    for block in blocks:\n",
    "        block.sort()\n",
    "\n",
    "    # Concatenate the sorted blocks\n",
    "    sorted_arr = []\n",
    "    for block in blocks:\n",
    "        sorted_arr.extend(block)\n",
    "    \n",
    "    return sorted_arr\n",
    "\n",
    "def measure_time_block_sort(arr):\n",
    "    start_time = time.time()\n",
    "    sorted_arr = block_sort(arr)\n",
    "    end_time = time.time()\n",
    "    return end_time - start_time\n",
    "\n",
    "# Gerando a lista para o melhor e pior caso\n",
    "def generate_best_case_block_sort(n):\n",
    "    return list(range(n))\n",
    "\n",
    "def generate_worst_case_block_sort(n):\n",
    "    return list(range(n, 0, -1))\n",
    "\n",
    "def generate_average_case(n):\n",
    "    arr = list(range(n))\n",
    "    random.shuffle(arr)\n",
    "    return arr"
   ]
  },
  {
   "cell_type": "code",
   "execution_count": null,
   "id": "cf4d47a8",
   "metadata": {},
   "outputs": [],
   "source": [
    "# Tamanho da lista\n",
    "n = 1000000"
   ]
  },
  {
   "cell_type": "code",
   "execution_count": null,
   "id": "215f8096",
   "metadata": {},
   "outputs": [],
   "source": [
    "# Melhor caso\n",
    "best_case_arr_block_sort = generate_best_case_block_sort(n)\n",
    "best_case_time_block_sort = measure_time_block_sort(best_case_arr_block_sort)\n",
    "print(f\"Tempo total para o melhor caso (BlockSort, n={n}): {best_case_time_block_sort:.6f} segundos\")"
   ]
  },
  {
   "cell_type": "code",
   "execution_count": null,
   "id": "0ac76fd5",
   "metadata": {},
   "outputs": [],
   "source": [
    "# Pior caso\n",
    "worst_case_arr_block_sort = generate_worst_case_block_sort(n)\n",
    "worst_case_time_block_sort = measure_time_block_sort(worst_case_arr_block_sort)\n",
    "print(f\"Tempo total para o pior caso (BlockSort, n={n}): {worst_case_time_block_sort:.6f} segundos\")"
   ]
  },
  {
   "cell_type": "code",
   "execution_count": null,
   "id": "fbc0e26e",
   "metadata": {},
   "outputs": [],
   "source": [
    "# Caso médio (5 rodadas)\n",
    "average_case_times_block_sort = []\n",
    "for i in range(5):\n",
    "    average_case_arr = generate_average_case(n)\n",
    "    average_case_time_block_sort = measure_time_block_sort(average_case_arr)\n",
    "    average_case_times_block_sort.append(average_case_time_block_sort)\n",
    "    print(f\"Tempo para o caso médio (BlockSort, n={n}, rodada {i+1}): {average_case_time_block_sort:.6f} segundos\")\n",
    "\n",
    "average_case_time_block_sort = sum(average_case_times_block_sort) / len(average_case_times_block_sort)\n",
    "print(f\"Tempo médio para o caso médio (BlockSort, n={n}, 5 rodadas): {average_case_time_block_sort:.6f} segundos\")"
   ]
  },
  {
   "cell_type": "code",
   "execution_count": null,
   "id": "2d32e790",
   "metadata": {},
   "outputs": [],
   "source": []
  }
 ],
 "metadata": {
  "kernelspec": {
   "display_name": "Python 3 (ipykernel)",
   "language": "python",
   "name": "python3"
  },
  "language_info": {
   "codemirror_mode": {
    "name": "ipython",
    "version": 3
   },
   "file_extension": ".py",
   "mimetype": "text/x-python",
   "name": "python",
   "nbconvert_exporter": "python",
   "pygments_lexer": "ipython3",
   "version": "3.11.5"
  }
 },
 "nbformat": 4,
 "nbformat_minor": 5
}
