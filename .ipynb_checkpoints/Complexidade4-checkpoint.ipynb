{
 "cells": [
  {
   "cell_type": "markdown",
   "id": "fc1b421e",
   "metadata": {},
   "source": [
    "https://lamfo-unb.github.io/2019/04/21/Sorting-algorithms/"
   ]
  },
  {
   "cell_type": "markdown",
   "id": "a776e07d",
   "metadata": {},
   "source": [
    "## Importação de dependências\n",
    "\n",
    "Estas bibliotecas são utilizadas para diferentes propósitos no experimento:\n",
    "\n",
    "* time: medição do tempo de execução.\n",
    "* random: geração de casos médios aleatórios.\n",
    "* math: operações matemáticas, como raiz quadrada.\n",
    "* psutil: monitoramento do uso de recursos do sistema.\n",
    "* os: interações com o sistema operacional, como verificar se arquivos existem.\n",
    "* tracemalloc: rastreamento do uso de memória.\n",
    "* csv: leitura e escrita de arquivos CSV.\n",
    "* datetime: obter a data e hora atuais."
   ]
  },
  {
   "cell_type": "code",
   "execution_count": 1,
   "id": "91a4ef6c",
   "metadata": {},
   "outputs": [],
   "source": [
    "import time\n",
    "import random\n",
    "import math\n",
    "import psutil\n",
    "import os\n",
    "import tracemalloc\n",
    "import csv\n",
    "from datetime import datetime"
   ]
  },
  {
   "cell_type": "markdown",
   "id": "03dd5d77",
   "metadata": {},
   "source": [
    "## Implementação dos Algoritmos de Ordenação:"
   ]
  },
  {
   "cell_type": "markdown",
   "id": "c7a1a374",
   "metadata": {},
   "source": [
    "### a) MergeSort"
   ]
  },
  {
   "cell_type": "code",
   "execution_count": 2,
   "id": "c1a666bf",
   "metadata": {},
   "outputs": [],
   "source": [
    "def merge_sort(arr):\n",
    "    if len(arr) > 1:\n",
    "        mid = len(arr) // 2\n",
    "        left_half = arr[:mid]\n",
    "        right_half = arr[mid:]\n",
    "\n",
    "        merge_sort(left_half)\n",
    "        merge_sort(right_half)\n",
    "\n",
    "        i, j, k = 0, 0, 0\n",
    "        while i < len(left_half) and j < len(right_half):\n",
    "            if left_half[i] < right_half[j]:\n",
    "                arr[k] = left_half[i]\n",
    "                i += 1\n",
    "            else:\n",
    "                arr[k] = right_half[j]\n",
    "                j += 1\n",
    "            k += 1\n",
    "\n",
    "        while i < len(left_half):\n",
    "            arr[k] = left_half[i]\n",
    "            i += 1\n",
    "            k += 1\n",
    "\n",
    "        while j < len(right_half):\n",
    "            arr[k] = right_half[j]\n",
    "            j += 1\n",
    "            k += 1"
   ]
  },
  {
   "cell_type": "markdown",
   "id": "4dfaf19c",
   "metadata": {},
   "source": [
    "### b) QuickSort"
   ]
  },
  {
   "cell_type": "code",
   "execution_count": 3,
   "id": "8376a406",
   "metadata": {},
   "outputs": [],
   "source": [
    "def quick_sort(arr):\n",
    "    if len(arr) <= 1:\n",
    "        return arr\n",
    "    else:\n",
    "        pivot = arr[len(arr) // 2]\n",
    "        left = [x for x in arr if x < pivot]\n",
    "        middle = [x for x in arr if x == pivot]\n",
    "        right = [x for x in arr if x > pivot]\n",
    "        return quick_sort(left) + middle + quick_sort(right)"
   ]
  },
  {
   "cell_type": "markdown",
   "id": "a42488ad",
   "metadata": {},
   "source": [
    "### c) SelectionSort"
   ]
  },
  {
   "cell_type": "code",
   "execution_count": null,
   "id": "ca5f1fcb",
   "metadata": {},
   "outputs": [],
   "source": [
    "def selection_sort(arr):\n",
    "    for i in range(len(arr)):\n",
    "        min_idx = i\n",
    "        for j in range(i+1, len(arr)):\n",
    "            if arr[j] < arr[min_idx]:\n",
    "                min_idx = j\n",
    "        arr[i], arr[min_idx] = arr[min_idx], arr[i]"
   ]
  },
  {
   "cell_type": "markdown",
   "id": "8bd47195",
   "metadata": {},
   "source": [
    "## Medição do Tempo e Memória\n",
    "Esta função measure_time_and_memory mede o tempo e o uso de memória de uma função de ordenação."
   ]
  },
  {
   "cell_type": "code",
   "execution_count": 6,
   "id": "85d67377",
   "metadata": {},
   "outputs": [],
   "source": [
    "def measure_time_and_memory(arr, sort_function):\n",
    "    tracemalloc.start()\n",
    "    start_time = time.time()\n",
    "    arr_copy = arr[:]  # Copiar o array para evitar alterar o original\n",
    "    sort_function(arr_copy)\n",
    "    end_time = time.time()\n",
    "    current, peak = tracemalloc.get_traced_memory()\n",
    "    tracemalloc.stop()\n",
    "    return end_time - start_time, peak / (1024 * 1024)  # Converter para MB\n"
   ]
  },
  {
   "cell_type": "markdown",
   "id": "e26ece29",
   "metadata": {},
   "source": [
    "## Geração de Casos de Teste (Vetores de entrada)\n",
    "\n",
    "Cada algoritmo terá seus próprios casos de teste específicos para melhor caso, pior caso e caso médio, refletindo de maneira mais precisa a complexidade e a performance de cada um."
   ]
  },
  {
   "cell_type": "markdown",
   "id": "76fc019e",
   "metadata": {},
   "source": [
    "### MergeSort melhor caso\n",
    "\n",
    "Array já ordenado. \n",
    "\n",
    "Melhor Caso (generate_best_case_merge_sort): Gera um array ordenado de 0 a n-1."
   ]
  },
  {
   "cell_type": "code",
   "execution_count": null,
   "id": "67660f20",
   "metadata": {},
   "outputs": [],
   "source": [
    "def generate_best_case_merge_sort(n):\n",
    "    return list(range(n))"
   ]
  },
  {
   "cell_type": "markdown",
   "id": "3a076bd9",
   "metadata": {},
   "source": [
    "### MergeSort pior caso\n",
    "\n",
    "O pior caso para MergeSort será aquele onde o array é tal que, em cada etapa, a função merge faz o número máximo de comparações. Seguindo a lógica explicada, foi criado uma função recursiva para construir os arrais.\n",
    "\n",
    "Pior Caso (generate_worst_case_merge_sort): Gera um array que resulta no número máximo de comparações no MergeSort. Utiliza uma abordagem recursiva para alternar os elementos entre subarrays esquerdo e direito."
   ]
  },
  {
   "cell_type": "code",
   "execution_count": null,
   "id": "84b3df88",
   "metadata": {},
   "outputs": [],
   "source": [
    "# Pior caso para MergeSort: https://stackoverflow.com/questions/24594112/when-will-the-worst-case-of-merge-sort-occur\n",
    "def generate_worst_case_merge_sort(arr):\n",
    "    if len(arr) <= 1:\n",
    "        return arr\n",
    "    mid = len(arr) // 2\n",
    "    left = generate_worst_case_merge_sort(arr[:mid])\n",
    "    right = generate_worst_case_merge_sort(arr[mid:])\n",
    "    worst_case_arr = []\n",
    "    left_index, right_index = 0, 0\n",
    "    while left_index < len(left) and right_index < len(right):\n",
    "        worst_case_arr.append(left[left_index])\n",
    "        left_index += 1\n",
    "        worst_case_arr.append(right[right_index])\n",
    "        right_index += 1\n",
    "    # Append any remaining elements (only happens if len(arr) is odd)\n",
    "    worst_case_arr.extend(left[left_index:])\n",
    "    worst_case_arr.extend(right[right_index:])\n",
    "    return worst_case_arr\n",
    "\n",
    "def generate_worst_case_merge_sort_wrapper(n):\n",
    "    arr = list(range(n))\n",
    "    return generate_worst_case_merge_sort(arr)"
   ]
  },
  {
   "cell_type": "markdown",
   "id": "4b730612",
   "metadata": {},
   "source": [
    "### MergeSort caso medio\n",
    "\n",
    "O caso médio para MergeSort é um array embaralhado aleatoriamente.\n",
    "\n",
    "Caso Médio (generate_average_case_merge_sort): Gera um array embaralhado aleatoriamente.\n",
    "Essa abordagem garante que o pior caso do MergeSort é configurado corretamente para maximizar o número de comparações, enquanto os melhores e casos médios permanecem conforme esperado."
   ]
  },
  {
   "cell_type": "code",
   "execution_count": 7,
   "id": "1e48d784",
   "metadata": {},
   "outputs": [],
   "source": [
    "# Caso médio para MergeSort: array aleatório\n",
    "def generate_average_case_merge_sort(n):\n",
    "    arr = list(range(n))\n",
    "    random.shuffle(arr)\n",
    "    return arr"
   ]
  },
  {
   "cell_type": "markdown",
   "id": "2e870eb8",
   "metadata": {},
   "source": [
    "### QuickSort melhor caso\n",
    "\n",
    "Para o pivô sendo o elemento do meio, o melhor caso ocorre quando o array é tal que cada divisão é perfeitamente equilibrada. Na prática, isso não depende muito do estado inicial (ordenado ou aleatório), mas sim de uma distribuição balanceada dos elementos."
   ]
  },
  {
   "cell_type": "code",
   "execution_count": null,
   "id": "89e89b1c",
   "metadata": {},
   "outputs": [],
   "source": [
    "def generate_best_case_quick_sort(n):\n",
    "    return list(range(n))"
   ]
  },
  {
   "cell_type": "markdown",
   "id": "dcf154fb",
   "metadata": {},
   "source": [
    "### QuickSort pior caso\n",
    "\n",
    "O pior caso ocorre quando o array está ordenado ou inversamente ordenado, e o pivô sendo o elemento do meio ainda resulta em uma partição desbalanceada. Contudo, com o pivô sendo o elemento do meio, um array ordenado ou inversamente ordenado não cria o pior caso. Então, vamos criar uma distribuição específica que força o pior caso."
   ]
  },
  {
   "cell_type": "code",
   "execution_count": null,
   "id": "39b0de56",
   "metadata": {},
   "outputs": [],
   "source": [
    "def generate_worst_case_quick_sort(arr):\n",
    "    if len(arr) <= 1:\n",
    "        return arr\n",
    "    mid = len(arr) // 2\n",
    "    left = generate_worst_case_quick_sort(arr[:mid])\n",
    "    right = generate_worst_case_quick_sort(arr[mid:])\n",
    "    return [arr[mid]] + left + right\n",
    "\n",
    "def generate_worst_case_quick_sort_wrapper(n):\n",
    "    arr = list(range(n))\n",
    "    return generate_worst_case_quick_sort(arr)"
   ]
  },
  {
   "cell_type": "markdown",
   "id": "640a10c9",
   "metadata": {},
   "source": [
    "### QuickSort caso medio\n",
    "\n",
    "Para o caso médio, um array aleatório geralmente serve bem para esta abordagem."
   ]
  },
  {
   "cell_type": "code",
   "execution_count": 8,
   "id": "670c8586",
   "metadata": {},
   "outputs": [],
   "source": [
    "def generate_average_case_quick_sort(n):\n",
    "    arr = list(range(n))\n",
    "    random.shuffle(arr)\n",
    "    return arr"
   ]
  },
  {
   "cell_type": "markdown",
   "id": "41297e2d",
   "metadata": {},
   "source": [
    "### Selection Sort melhor caso\n",
    "O melhor caso para o Selection Sort ocorre quando o array já está ordenado. Mesmo neste caso, o algoritmo ainda tem que passar por todas as comparações, mas não faz trocas desnecessárias. A complexidade permanece O(n^2), mas o número de trocas é mínimo."
   ]
  },
  {
   "cell_type": "code",
   "execution_count": 9,
   "id": "61b7bac9",
   "metadata": {},
   "outputs": [],
   "source": [
    "def generate_best_case_selection_sort(n):\n",
    "    return list(range(n))"
   ]
  },
  {
   "cell_type": "markdown",
   "id": "f099169c",
   "metadata": {},
   "source": [
    "### Selection Sort pior caso\n",
    "\n",
    "O pior caso para o Selection Sort ocorre quando o array está em ordem inversa. Isso força o algoritmo a realizar o máximo número de trocas."
   ]
  },
  {
   "cell_type": "code",
   "execution_count": null,
   "id": "2a81650b",
   "metadata": {},
   "outputs": [],
   "source": [
    "def generate_worst_case_selection_sort(n):\n",
    "    return list(range(n-1, -1, -1))"
   ]
  },
  {
   "cell_type": "markdown",
   "id": "ad3cb64f",
   "metadata": {},
   "source": [
    "### Selection Sort caso medio\n",
    "\n",
    "O caso médio para o Selection Sort é um array aleatório, onde o desempenho será representativo da média esperada para a complexidade O(n^2)."
   ]
  },
  {
   "cell_type": "code",
   "execution_count": null,
   "id": "6ae221d2",
   "metadata": {},
   "outputs": [],
   "source": [
    "def generate_average_case_selection_sort(n):\n",
    "    arr = list(range(n))\n",
    "    random.shuffle(arr)\n",
    "    return arr"
   ]
  },
  {
   "cell_type": "markdown",
   "id": "5ed1f3e2",
   "metadata": {},
   "source": [
    "### Função para retornar as funções de geração de casos de teste com base no algoritmo\n",
    "\n",
    "Esta função retorna um conjunto de funções de geração de casos de teste (melhor caso, pior caso e caso médio) específicas para o algoritmo de ordenação fornecido. O objetivo é fornecer as funções corretas que geram os casos de teste apropriados para o algoritmo especificado.\n",
    "\n",
    "**Como funciona:**\n",
    "\n",
    "**Entrada:** Um string algorithm_name, que é o nome do algoritmo de ordenação (por exemplo, \"MergeSort\").\n",
    "\n",
    "**Processamento:** Verifica qual é o nome do algoritmo e retorna um conjunto de três funções: uma para gerar o melhor caso, uma para gerar o pior caso e outra para gerar o caso médio.\n",
    "\n",
    "**Saída:** Uma tupla contendo três funções de geração de casos de teste correspondentes ao algoritmo especificado."
   ]
  },
  {
   "cell_type": "code",
   "execution_count": 11,
   "id": "2974137a",
   "metadata": {},
   "outputs": [],
   "source": [
    "def get_case_generators(algorithm_name):\n",
    "    if algorithm_name == \"MergeSort\":\n",
    "        return (generate_best_case_merge_sort, generate_worst_case_merge_sort_wrapper, generate_average_case_merge_sort)\n",
    "    elif algorithm_name == \"QuickSort\":\n",
    "        return (generate_best_case_quick_sort, generate_worst_case_quick_sort_wrapper, generate_average_case_quick_sort)\n",
    "    elif algorithm_name == \"SelectionSort\":\n",
    "        return (generate_best_case_selection_sort, generate_worst_case_selection_sort, generate_average_case_selection_sort)\n",
    "    else:\n",
    "        raise ValueError(f\"Algoritmo desconhecido: {algorithm_name}\")\n"
   ]
  },
  {
   "cell_type": "markdown",
   "id": "10d65a16",
   "metadata": {},
   "source": [
    "## Seleção da Função de Ordenação\n",
    "\n",
    "Seleciona a função de ordenação com base no nome fornecido."
   ]
  },
  {
   "cell_type": "code",
   "execution_count": 12,
   "id": "d275b0ce",
   "metadata": {},
   "outputs": [],
   "source": [
    "def get_sort_function(algorithm_name):\n",
    "    if algorithm_name == \"MergeSort\":\n",
    "        return merge_sort\n",
    "    elif algorithm_name == \"QuickSort\":\n",
    "        return quick_sort\n",
    "    elif algorithm_name == \"SelectionSort\":\n",
    "        return selection_sort\n",
    "    else:\n",
    "        raise ValueError(f\"Algoritmo desconhecido: {algorithm_name}\")"
   ]
  },
  {
   "cell_type": "markdown",
   "id": "1203a6e5",
   "metadata": {},
   "source": [
    "## Leitura do Arquivo de Entrada\n",
    "\n",
    "Lê o arquivo de entrada para obter os tamanhos dos arrays e o algoritmo a ser testado."
   ]
  },
  {
   "cell_type": "code",
   "execution_count": 13,
   "id": "eaac805b",
   "metadata": {},
   "outputs": [],
   "source": [
    "def read_input_file(filename):\n",
    "    with open(filename, 'r') as file:\n",
    "        sizes = list(map(int, file.readline().strip().split()))\n",
    "        algorithm = file.readline().strip()\n",
    "    return sizes, algorithm"
   ]
  },
  {
   "cell_type": "markdown",
   "id": "8ca32bbf",
   "metadata": {},
   "source": [
    "## Função Principal\n",
    "\n",
    "A função principal coordena a leitura dos parâmetros de entrada, seleção do algoritmo de ordenação, execução dos testes e gravação dos resultados em um arquivo CSV.\n",
    "\n",
    "**Fluxo Geral do Programa**\n",
    "\n",
    "**Leitura dos Parâmetros de Entrada:** O arquivo input-teste.txt é lido para obter os tamanhos dos arrays e o algoritmo de ordenação a ser testado.\n",
    "\n",
    "**Configuração do Arquivo de Log:** Se o arquivo de log não existe, ele é criado com o cabeçalho apropriado.\n",
    "\n",
    "**Execução dos Testes:** Para cada tamanho de array, são gerados três tipos de casos (melhor, pior e médio). Para cada caso, o tempo e o uso de memória são medidos.\n",
    "\n",
    "**Registro dos Resultados:** Os resultados são registrados no arquivo de log e impressos no console.\n",
    "\n",
    "Esta estrutura permite uma análise detalhada da performance de diferentes algoritmos de ordenação sob diferentes condições."
   ]
  },
  {
   "cell_type": "code",
   "execution_count": null,
   "id": "7d09fd56",
   "metadata": {
    "scrolled": false
   },
   "outputs": [],
   "source": [
    "def main():\n",
    "    sizes, algorithm_name = read_input_file('input.txt')\n",
    "    sort_function = get_sort_function(algorithm_name)\n",
    "    log_file = 'sort_performance_log.csv'\n",
    "\n",
    "    if not os.path.exists(log_file):\n",
    "        with open(log_file, 'w', newline='') as csvfile:\n",
    "            fieldnames = ['timestamp', 'algorithm', 'size', 'case', 'time', 'memory']\n",
    "            writer = csv.DictWriter(csvfile, fieldnames=fieldnames)\n",
    "            writer.writeheader()\n",
    "\n",
    "    case_generators = get_case_generators(algorithm_name)\n",
    "    cases = ['melhor', 'pior', 'medio']\n",
    "\n",
    "    for size in sizes:\n",
    "        for case, gen_case in zip(cases, case_generators):\n",
    "            if case == 'medio':\n",
    "                times = []\n",
    "                memories = []\n",
    "                for _ in range(5):\n",
    "                    arr = gen_case(size)\n",
    "#                     print(f\"Array {case} caso (antes da ordenação): {arr}\")\n",
    "                    time_spent, memory_used = measure_time_and_memory(arr, sort_function)\n",
    "                    times.append(time_spent)\n",
    "                    memories.append(memory_used)\n",
    "                avg_time = sum(times) / len(times)\n",
    "                avg_memory = sum(memories) / len(memories)\n",
    "                log_entry = {\n",
    "                    'timestamp': datetime.now().strftime('%Y-%m-%d %H:%M:%S'),\n",
    "                    'algorithm': algorithm_name,\n",
    "                    'size': size,\n",
    "                    'case': case,\n",
    "                    'time': avg_time,\n",
    "                    'memory': avg_memory\n",
    "                }\n",
    "                print(f\"{log_entry['timestamp']}, {algorithm_name}, {size}, {case}, {avg_time:.6f}, {avg_memory:.6f} MB\")\n",
    "            else:\n",
    "                arr = gen_case(size)\n",
    "#                 print(f\"Array {case} caso (antes da ordenação): {arr}\")\n",
    "                time_spent, memory_used = measure_time_and_memory(arr, sort_function)\n",
    "                log_entry = {\n",
    "                    'timestamp': datetime.now().strftime('%Y-%m-%d %H:%M:%S'),\n",
    "                    'algorithm': algorithm_name,\n",
    "                    'size': size,\n",
    "                    'case': case,\n",
    "                    'time': time_spent,\n",
    "                    'memory': memory_used\n",
    "                }\n",
    "                print(f\"{log_entry['timestamp']}, {algorithm_name}, {size}, {case}, {time_spent:.6f}, {memory_used:.6f} MB\")\n",
    "\n",
    "            with open(log_file, 'a', newline='') as csvfile:\n",
    "                fieldnames = ['timestamp', 'algorithm', 'size', 'case', 'time', 'memory']\n",
    "                writer = csv.DictWriter(csvfile, fieldnames=fieldnames)\n",
    "                writer.writerow(log_entry)"
   ]
  },
  {
   "cell_type": "code",
   "execution_count": null,
   "id": "6f1a7ef6",
   "metadata": {},
   "outputs": [],
   "source": [
    "if __name__ == \"__main__\":\n",
    "    main()"
   ]
  }
 ],
 "metadata": {
  "kernelspec": {
   "display_name": "Python 3 (ipykernel)",
   "language": "python",
   "name": "python3"
  },
  "language_info": {
   "codemirror_mode": {
    "name": "ipython",
    "version": 3
   },
   "file_extension": ".py",
   "mimetype": "text/x-python",
   "name": "python",
   "nbconvert_exporter": "python",
   "pygments_lexer": "ipython3",
   "version": "3.11.5"
  }
 },
 "nbformat": 4,
 "nbformat_minor": 5
}
